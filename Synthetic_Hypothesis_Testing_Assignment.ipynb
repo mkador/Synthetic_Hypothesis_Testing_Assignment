{
 "cells": [
  {
   "cell_type": "markdown",
   "id": "84496be9",
   "metadata": {},
   "source": [
    "# Hypothesis Testing Assignment using Synthetic Dataset\n",
    "\n",
    "This notebook performs statistical hypothesis tests including:\n",
    "- Shapiro-Wilk Test (Normality)\n",
    "- Levene’s Test (Homogeneity of variance)\n",
    "- One-Way ANOVA (Parametric mean test)\n",
    "- Mann-Whitney U Test (Non-parametric test)\n",
    "- Chi-Square Test (Association between categorical variables)\n"
   ]
  },
  {
   "cell_type": "markdown",
   "id": "5b59ad98-0f45-4dd5-ba11-56b76a45f7b5",
   "metadata": {},
   "source": [
    "## Import Libraries and Create synthetic dataset"
   ]
  },
  {
   "cell_type": "code",
   "execution_count": 7,
   "id": "6f10211c",
   "metadata": {},
   "outputs": [
    {
     "data": {
      "text/html": [
       "<div>\n",
       "<style scoped>\n",
       "    .dataframe tbody tr th:only-of-type {\n",
       "        vertical-align: middle;\n",
       "    }\n",
       "\n",
       "    .dataframe tbody tr th {\n",
       "        vertical-align: top;\n",
       "    }\n",
       "\n",
       "    .dataframe thead th {\n",
       "        text-align: right;\n",
       "    }\n",
       "</style>\n",
       "<table border=\"1\" class=\"dataframe\">\n",
       "  <thead>\n",
       "    <tr style=\"text-align: right;\">\n",
       "      <th></th>\n",
       "      <th>Score</th>\n",
       "      <th>Group</th>\n",
       "      <th>Category</th>\n",
       "    </tr>\n",
       "  </thead>\n",
       "  <tbody>\n",
       "    <tr>\n",
       "      <th>0</th>\n",
       "      <td>102.483571</td>\n",
       "      <td>A</td>\n",
       "      <td>NaN</td>\n",
       "    </tr>\n",
       "    <tr>\n",
       "      <th>1</th>\n",
       "      <td>99.308678</td>\n",
       "      <td>A</td>\n",
       "      <td>High</td>\n",
       "    </tr>\n",
       "    <tr>\n",
       "      <th>2</th>\n",
       "      <td>103.238443</td>\n",
       "      <td>A</td>\n",
       "      <td>NaN</td>\n",
       "    </tr>\n",
       "    <tr>\n",
       "      <th>3</th>\n",
       "      <td>107.615149</td>\n",
       "      <td>A</td>\n",
       "      <td>NaN</td>\n",
       "    </tr>\n",
       "    <tr>\n",
       "      <th>4</th>\n",
       "      <td>98.829233</td>\n",
       "      <td>A</td>\n",
       "      <td>High</td>\n",
       "    </tr>\n",
       "  </tbody>\n",
       "</table>\n",
       "</div>"
      ],
      "text/plain": [
       "        Score Group Category\n",
       "0  102.483571     A      NaN\n",
       "1   99.308678     A     High\n",
       "2  103.238443     A      NaN\n",
       "3  107.615149     A      NaN\n",
       "4   98.829233     A     High"
      ]
     },
     "execution_count": 7,
     "metadata": {},
     "output_type": "execute_result"
    }
   ],
   "source": [
    "import pandas as pd\n",
    "import numpy as np\n",
    "from scipy.stats import shapiro, levene, f_oneway, mannwhitneyu, chi2_contingency\n",
    "np.random.seed(42)\n",
    "group_A = np.random.normal(loc=100, scale=5, size=100)\n",
    "group_B = np.random.normal(loc=100, scale=5, size=100)\n",
    "group_C = np.random.normal(loc=100, scale=10, size=100)\n",
    "\n",
    "df = pd.DataFrame({\n",
    "    \"Score\": np.concatenate([group_A, group_B, group_C]),\n",
    "    \"Group\": [\"A\"]*100 + [\"B\"]*100 + [\"C\"]*100\n",
    "})\n",
    "df[\"Category\"] = pd.cut(df[\"Score\"], bins=[0, 50, 60, 100], labels=[\"Low\", \"Medium\", \"High\"])\n",
    "df.head()"
   ]
  },
  {
   "cell_type": "markdown",
   "id": "1906aed7-3659-4d50-9b5f-35db9440b79d",
   "metadata": {},
   "source": [
    "## Shapiro-Wilk Test for Normality"
   ]
  },
  {
   "cell_type": "code",
   "execution_count": 2,
   "id": "d4533d3d",
   "metadata": {},
   "outputs": [
    {
     "name": "stdout",
     "output_type": "stream",
     "text": [
      "Group A Shapiro-Wilk p-value: 0.6552\n",
      "✅ Group A data is normally distributed.\n",
      "\n",
      "Group B Shapiro-Wilk p-value: 0.0853\n",
      "✅ Group B data is normally distributed.\n",
      "\n",
      "Group C Shapiro-Wilk p-value: 0.3551\n",
      "✅ Group C data is normally distributed.\n",
      "\n"
     ]
    }
   ],
   "source": [
    "for group in [\"A\", \"B\", \"C\"]:\n",
    "    stat, p = shapiro(df[df[\"Group\"] == group][\"Score\"])\n",
    "    print(f\"Group {group} Shapiro-Wilk p-value: {p:.4f}\")\n",
    "    if p > 0.05:\n",
    "        print(f\"✅ Group {group} data is normally distributed.\\n\")\n",
    "    else:\n",
    "        print(f\"❌ Group {group} data is NOT normally distributed.\\n\")"
   ]
  },
  {
   "cell_type": "markdown",
   "id": "32d70b10-eb7c-443f-8c75-ae580c86ca13",
   "metadata": {},
   "source": [
    "## Levene’s Test for Homogeneity of Variance"
   ]
  },
  {
   "cell_type": "code",
   "execution_count": 3,
   "id": "5ee1a7c3",
   "metadata": {},
   "outputs": [
    {
     "name": "stdout",
     "output_type": "stream",
     "text": [
      "Levene’s Test p-value: 0.0000\n",
      "❌ Variances are NOT equal across groups.\n"
     ]
    }
   ],
   "source": [
    "stat, p = levene(df[df[\"Group\"] == \"A\"][\"Score\"],\n",
    "                 df[df[\"Group\"] == \"B\"][\"Score\"],\n",
    "                 df[df[\"Group\"] == \"C\"][\"Score\"])\n",
    "print(f\"Levene’s Test p-value: {p:.4f}\")\n",
    "if p > 0.05:\n",
    "    print(\"✅ Variances are equal across groups.\")\n",
    "else:\n",
    "    print(\"❌ Variances are NOT equal across groups.\")"
   ]
  },
  {
   "cell_type": "markdown",
   "id": "b772b8bb-2ff0-4509-aa19-fd766a165632",
   "metadata": {},
   "source": [
    "## One-Way ANOVA"
   ]
  },
  {
   "cell_type": "code",
   "execution_count": 8,
   "id": "f08b3f4b",
   "metadata": {},
   "outputs": [
    {
     "name": "stdout",
     "output_type": "stream",
     "text": [
      "ANOVA p-value: 0.5294\n",
      "✅ No significant difference in means among groups.\n"
     ]
    }
   ],
   "source": [
    "stat, p = f_oneway(df[df[\"Group\"] == \"A\"][\"Score\"],\n",
    "                   df[df[\"Group\"] == \"B\"][\"Score\"],\n",
    "                   df[df[\"Group\"] == \"C\"][\"Score\"])\n",
    "print(f\"ANOVA p-value: {p:.4f}\")\n",
    "if p < 0.05:\n",
    "    print(\"❗ There is a significant difference in means among groups.\")\n",
    "else:\n",
    "    print(\"✅ No significant difference in means among groups.\")"
   ]
  },
  {
   "cell_type": "markdown",
   "id": "9c07978e-d758-45ff-8c30-7b490f37dd18",
   "metadata": {},
   "source": [
    "## Mann-Whitney U Test (Group A vs B)"
   ]
  },
  {
   "cell_type": "code",
   "execution_count": 9,
   "id": "5e5bb484",
   "metadata": {},
   "outputs": [
    {
     "name": "stdout",
     "output_type": "stream",
     "text": [
      "Mann-Whitney U Test p-value: 0.5181\n",
      "✅ No significant difference between Group A and B.\n"
     ]
    }
   ],
   "source": [
    "stat, p = mannwhitneyu(df[df[\"Group\"] == \"A\"][\"Score\"],\n",
    "                       df[df[\"Group\"] == \"B\"][\"Score\"],\n",
    "                       alternative='two-sided')\n",
    "print(f\"Mann-Whitney U Test p-value: {p:.4f}\")\n",
    "if p < 0.05:\n",
    "    print(\"❗ Significant difference between Group A and B (non-parametric).\")\n",
    "else:\n",
    "    print(\"✅ No significant difference between Group A and B.\")"
   ]
  },
  {
   "cell_type": "markdown",
   "id": "941151b1-c940-496a-80e1-b802d9c5ba8e",
   "metadata": {},
   "source": [
    "## Chi-Square Test for Independence (Group vs Category)"
   ]
  },
  {
   "cell_type": "code",
   "execution_count": 6,
   "id": "575b1711",
   "metadata": {},
   "outputs": [
    {
     "name": "stdout",
     "output_type": "stream",
     "text": [
      "Chi-Square Test p-value: 1.0000\n",
      "✅ Group and Category are independent.\n"
     ]
    }
   ],
   "source": [
    "contingency = pd.crosstab(df[\"Group\"], df[\"Category\"])\n",
    "stat, p, dof, expected = chi2_contingency(contingency)\n",
    "print(f\"Chi-Square Test p-value: {p:.4f}\")\n",
    "if p < 0.05:\n",
    "    print(\"❗ There is a relationship between Group and Category.\")\n",
    "else:\n",
    "    print(\"✅ Group and Category are independent.\")"
   ]
  },
  {
   "cell_type": "code",
   "execution_count": null,
   "id": "2f258187-0051-49fb-82e8-9cce031b26e1",
   "metadata": {},
   "outputs": [],
   "source": []
  },
  {
   "cell_type": "code",
   "execution_count": null,
   "id": "a38ae5a0-a321-477e-9128-2301571b2e74",
   "metadata": {},
   "outputs": [],
   "source": []
  },
  {
   "cell_type": "code",
   "execution_count": null,
   "id": "3ab54c9a-76ba-4a20-80ce-226cbbd2106c",
   "metadata": {},
   "outputs": [],
   "source": []
  }
 ],
 "metadata": {
  "kernelspec": {
   "display_name": "Python 3 (ipykernel)",
   "language": "python",
   "name": "python3"
  },
  "language_info": {
   "codemirror_mode": {
    "name": "ipython",
    "version": 3
   },
   "file_extension": ".py",
   "mimetype": "text/x-python",
   "name": "python",
   "nbconvert_exporter": "python",
   "pygments_lexer": "ipython3",
   "version": "3.13.0"
  }
 },
 "nbformat": 4,
 "nbformat_minor": 5
}
